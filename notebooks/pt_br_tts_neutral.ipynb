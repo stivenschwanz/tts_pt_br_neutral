{
  "nbformat": 4,
  "nbformat_minor": 0,
  "metadata": {
    "colab": {
      "name": "pt_br_tts_neutral.ipynb",
      "provenance": [],
      "collapsed_sections": []
    },
    "kernelspec": {
      "name": "python3",
      "display_name": "Python 3"
    },
    "language_info": {
      "name": "python"
    }
  },
  "cells": [
    {
      "cell_type": "markdown",
      "metadata": {
        "id": "OBoAQFcpKBWi"
      },
      "source": [
        "# **Setup trainning environment**"
      ]
    },
    {
      "cell_type": "code",
      "metadata": {
        "id": "fqzjLNl4JkOJ"
      },
      "source": [
        "import os\n",
        "\n",
        "#######################################\n",
        "# Update python\n",
        "#######################################\n",
        "\n",
        "#!apt install python3.8-dev\n",
        "\n",
        "#######################################\n",
        "# Install CUDA 11.1\n",
        "#######################################\n",
        "\n",
        "#!wget https://developer.download.nvidia.com/compute/cuda/11.1.0/local_installers/cuda_11.1.0_455.23.05_linux.run\n",
        "#!sh cuda_11.1.0_455.23.05_linux.run\n",
        "\n",
        "#######################################\n",
        "# Clone Brazilian Portuguese TTS repository\n",
        "#######################################\n",
        "\n",
        "!git clone https://github.com/stivenschwanz/tts_pt_br_neutral.git\n",
        "os.chdir('/content/tts_pt_br_neutral')\n",
        "\n",
        "#######################################\n",
        "# Clone Coqui AI TTS repository and patch it\n",
        "#######################################\n",
        "\n",
        "!git clone https://github.com/coqui-ai/TTS\n",
        "!patch TTS/TTS/utils/audio.py tts_utils_audio_py.patch \n",
        "\n",
        "#######################################\n",
        "# Install requeriments\n",
        "#######################################\n",
        "\n",
        "os.chdir('/content/tts_pt_br_neutral/TTS')\n",
        "!apt install espeak\n",
        "!pip install -r requirements.txt\n",
        "!python setup.py install\n"
      ],
      "execution_count": null,
      "outputs": []
    },
    {
      "cell_type": "markdown",
      "metadata": {
        "id": "3KJ8IcJRPFRM"
      },
      "source": [
        "# **Preprocessing Brazilian Portuguese corpus**"
      ]
    },
    {
      "cell_type": "code",
      "metadata": {
        "id": "KmSVrWmdO9_P"
      },
      "source": [
        "#######################################\n",
        "# Restore TTS checkpoints\n",
        "#######################################\n",
        "\n",
        "os.mkdir('/content/tts_pt_br_neutral/checkpoints')\n",
        "os.chdir('/content/tts_pt_br_neutral/checkpoints')\n",
        "!gdown --id 1WZdLA0yF35J1cQBvlTvSiLdru1pj4erI\n",
        "!unzip tacotron2-ddc-agosto-20-2021_12+14-c3082267.zip\n",
        "\n",
        "#######################################\n",
        "# PT-BR neutral corpus\n",
        "#######################################\n",
        "\n",
        "os.chdir('/content/tts_pt_br_neutral/')\n",
        "!gdown --id 1nf2GxGO5nrAprj2kGQGUXmedOjEMM0S5\n",
        "!unzip pt_br_neutral_corpus.zip\n",
        "\n",
        "#######################################\n",
        "# Create train-val splits\n",
        "#######################################\n",
        "\n",
        "!shuf pt_br_neutral_corpus/metadata.csv > pt_br_neutral_corpus/metadata_shuf.csv\n",
        "!head -n 6000 pt_br_neutral_corpus/metadata_shuf.csv > pt_br_neutral_corpus/metadata_train.csv\n",
        "!tail -n 728 pt_br_neutral_corpus/metadata_shuf.csv > pt_br_neutral_corpus/metadata_val.csv\n",
        "\n",
        "#######################################\n",
        "# Compute dataset mean and variance for normalization\n",
        "#######################################\n",
        "\n",
        "os.chdir('/content/tts_pt_br_neutral/TTS')\n",
        "!python TTS/bin/compute_statistics.py ../pt_br_neutral_model_config.json ../scale_stats.npy --data_path ../pt_br_neutral_corpus/ --output_path ../checkpoints"
      ],
      "execution_count": null,
      "outputs": []
    },
    {
      "cell_type": "markdown",
      "metadata": {
        "id": "tvL5k3sONFe_"
      },
      "source": [
        "# **Train the Tacotron2 network using the Brazilian Portuguese corpus**"
      ]
    },
    {
      "cell_type": "code",
      "metadata": {
        "id": "6Oj2gP5NLH8V"
      },
      "source": [
        "\n",
        "#######################################\n",
        "# Trainning. Note that this is an optional step to continue training and improve the best model so far....\n",
        "#######################################\n",
        "\n",
        "os.chdir('/content/tts_pt_br_neutral/TTS')\n",
        "# change the GPU id if needed                                  \n",
        "os.environ[\"CUDA_VISIBLE_DEVICES\"] = \"0\"\n",
        "!python TTS/bin/train_tts.py --config_path ../pt_br_neutral_model_config.json \\\n",
        "                                                     --output_path ../checkpoints \\\n",
        "                                                     --coqpit.datasets.0.path ../pt_br_neutral_corpus/ \\\n",
        "                                                     --coqpit.audio.stats_path ../scale_stats.npy"
      ],
      "execution_count": null,
      "outputs": []
    },
    {
      "cell_type": "markdown",
      "metadata": {
        "id": "-UeihF22LiEB"
      },
      "source": [
        "# **Test Tacotron2 network**"
      ]
    },
    {
      "cell_type": "code",
      "metadata": {
        "id": "ryg2FDAeLmvO"
      },
      "source": [
        "import IPython\n",
        "\n",
        "#######################################\n",
        "# Set parameters\n",
        "#######################################\n",
        "\n",
        "MODEL_PATH='../checkpoints/tacotron2-ddc-agosto-20-2021_12+14-c3082267/best_model.pth.tar'\n",
        "MODEL_CONFIG_PATH='../checkpoints/tacotron2-ddc-agosto-20-2021_12+14-c3082267/config.json'\n",
        "\n",
        "TEXT='bom dia! tá na hora de matar a fome! tá na mesa pessoal'\n",
        "#TEXT=\"O corpo docente era constituído de vinte e nove membros\"\n",
        "\n",
        "#######################################\n",
        "# Testing...\n",
        "#######################################\n",
        "\n",
        "os.chdir('/content/tts_pt_br_neutral/TTS')\n",
        "!python TTS/bin/synthesize.py --text \"$TEXT\" --model_path $MODEL_PATH --config_path $MODEL_CONFIG_PATH \n",
        "\n",
        "#######################################\n",
        "# Play audio\n",
        "#######################################\n",
        "\n",
        "IPython.display.Audio('tts_output.wav') \n"
      ],
      "execution_count": null,
      "outputs": []
    }
  ]
}
